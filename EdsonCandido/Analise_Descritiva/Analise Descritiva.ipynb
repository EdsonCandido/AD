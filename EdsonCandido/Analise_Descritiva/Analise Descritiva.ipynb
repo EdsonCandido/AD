{
 "cells": [
  {
   "cell_type": "markdown",
   "metadata": {},
   "source": [
    "# Análise Descritiva - Terceiro Estágio\n",
    "### Descrição:\n",
    "- Obtenha os dados dos horários presentes [aqui](https://github.com/zegildo/francisdrake);\n",
    "- Crie 10 perguntas em seu documento databricks ou jupyter;\n",
    "- Resposta as perguntas tendo como base gráficos construído;\n",
    "- Apresente suas conclusões e novas hipóteses encontradas;\n",
    "\n",
    "#### Perguntas : \n",
    "\n",
    "1. Quais as disciplinas que mais foram ofertadas na graduação ?\n",
    "2. Quais as Matatérias que apresentam dados inconsistentes?\n",
    "3. Há dados nulos? vazios? \n",
    "4. Quais as maiores cargas horários já ofertadas?\n",
    "5. Nos dados, há algum departamento extinto?\n",
    "6. Como foi a distribuição de disciplinas por período?\n",
    "7. Quais as disciplinas ofertadas em 2019.1?\n",
    "8. Quais são as disciplinas com carga horária em 90h?\n",
    "9. Quantas turmas de *pos - graduação* e de *graduação* estão disponíveis?\n",
    "10. Com base na pergunta anterior, quais são de 2009?"
   ]
  },
  {
   "cell_type": "code",
   "execution_count": 208,
   "metadata": {},
   "outputs": [],
   "source": [
    "# -*- coding: utf-8 -*-\n",
    "import pandas as pd\n",
    "import numpy as np\n",
    "import matplotlib.pyplot as plt\n",
    "%matplotlib inline\n",
    "import re"
   ]
  },
  {
   "cell_type": "code",
   "execution_count": 281,
   "metadata": {},
   "outputs": [
    {
     "data": {
      "text/html": [
       "<div>\n",
       "<style scoped>\n",
       "    .dataframe tbody tr th:only-of-type {\n",
       "        vertical-align: middle;\n",
       "    }\n",
       "\n",
       "    .dataframe tbody tr th {\n",
       "        vertical-align: top;\n",
       "    }\n",
       "\n",
       "    .dataframe thead th {\n",
       "        text-align: right;\n",
       "    }\n",
       "</style>\n",
       "<table border=\"1\" class=\"dataframe\">\n",
       "  <thead>\n",
       "    <tr style=\"text-align: right;\">\n",
       "      <th></th>\n",
       "      <th>siape</th>\n",
       "      <th>nome</th>\n",
       "      <th>departamento</th>\n",
       "      <th>url_foto</th>\n",
       "      <th>Portal_Siape</th>\n",
       "    </tr>\n",
       "  </thead>\n",
       "  <tbody>\n",
       "    <tr>\n",
       "      <th>0</th>\n",
       "      <td>1649777</td>\n",
       "      <td>ANA TEREZA DE ABREU LIMA</td>\n",
       "      <td>DEPARTAMENTO DE CIÊNCIA E TECNOLOGIA - CARAÚBAS</td>\n",
       "      <td>https://sigaa.ufersa.edu.br/sigaa/verFoto?idFo...</td>\n",
       "      <td>https://sigaa.ufersa.edu.br/sigaa/public/docen...</td>\n",
       "    </tr>\n",
       "    <tr>\n",
       "      <th>1</th>\n",
       "      <td>3738738</td>\n",
       "      <td>ANDRÉ MOREIRA DE OLIVEIRA</td>\n",
       "      <td>DEPARTAMENTO DE CIÊNCIA E TECNOLOGIA - CARAÚBAS</td>\n",
       "      <td>https://sigaa.ufersa.edu.br/sigaa/verFoto?idFo...</td>\n",
       "      <td>https://sigaa.ufersa.edu.br/sigaa/public/docen...</td>\n",
       "    </tr>\n",
       "    <tr>\n",
       "      <th>2</th>\n",
       "      <td>2647223</td>\n",
       "      <td>ANTONIO VITOR MACHADO</td>\n",
       "      <td>DEPARTAMENTO DE CIÊNCIA E TECNOLOGIA - CARAÚBAS</td>\n",
       "      <td>https://sigaa.ufersa.edu.br/sigaa/verFoto?idFo...</td>\n",
       "      <td>https://sigaa.ufersa.edu.br/sigaa/public/docen...</td>\n",
       "    </tr>\n",
       "    <tr>\n",
       "      <th>3</th>\n",
       "      <td>1872410</td>\n",
       "      <td>DANIELY FORMIGA BRAGA</td>\n",
       "      <td>DEPARTAMENTO DE CIÊNCIA E TECNOLOGIA - CARAÚBAS</td>\n",
       "      <td>https://sigaa.ufersa.edu.br/sigaa/verFoto?idFo...</td>\n",
       "      <td>https://sigaa.ufersa.edu.br/sigaa/public/docen...</td>\n",
       "    </tr>\n",
       "    <tr>\n",
       "      <th>4</th>\n",
       "      <td>2355526</td>\n",
       "      <td>DAVI DA COSTA ALMEIDA</td>\n",
       "      <td>DEPARTAMENTO DE CIÊNCIA E TECNOLOGIA - CARAÚBAS</td>\n",
       "      <td>https://sigaa.ufersa.edu.br/sigaa/verFoto?idFo...</td>\n",
       "      <td>https://sigaa.ufersa.edu.br/sigaa/public/docen...</td>\n",
       "    </tr>\n",
       "    <tr>\n",
       "      <th>5</th>\n",
       "      <td>1801817</td>\n",
       "      <td>EDNA LUCIA DA ROCHA LINHARES</td>\n",
       "      <td>DEPARTAMENTO DE CIÊNCIA E TECNOLOGIA - CARAÚBAS</td>\n",
       "      <td>https://sigaa.ufersa.edu.br/sigaa/verFoto?idFo...</td>\n",
       "      <td>https://sigaa.ufersa.edu.br/sigaa/public/docen...</td>\n",
       "    </tr>\n",
       "  </tbody>\n",
       "</table>\n",
       "</div>"
      ],
      "text/plain": [
       "     siape                          nome  \\\n",
       "0  1649777      ANA TEREZA DE ABREU LIMA   \n",
       "1  3738738     ANDRÉ MOREIRA DE OLIVEIRA   \n",
       "2  2647223         ANTONIO VITOR MACHADO   \n",
       "3  1872410         DANIELY FORMIGA BRAGA   \n",
       "4  2355526         DAVI DA COSTA ALMEIDA   \n",
       "5  1801817  EDNA LUCIA DA ROCHA LINHARES   \n",
       "\n",
       "                                      departamento  \\\n",
       "0  DEPARTAMENTO DE CIÊNCIA E TECNOLOGIA - CARAÚBAS   \n",
       "1  DEPARTAMENTO DE CIÊNCIA E TECNOLOGIA - CARAÚBAS   \n",
       "2  DEPARTAMENTO DE CIÊNCIA E TECNOLOGIA - CARAÚBAS   \n",
       "3  DEPARTAMENTO DE CIÊNCIA E TECNOLOGIA - CARAÚBAS   \n",
       "4  DEPARTAMENTO DE CIÊNCIA E TECNOLOGIA - CARAÚBAS   \n",
       "5  DEPARTAMENTO DE CIÊNCIA E TECNOLOGIA - CARAÚBAS   \n",
       "\n",
       "                                            url_foto  \\\n",
       "0  https://sigaa.ufersa.edu.br/sigaa/verFoto?idFo...   \n",
       "1  https://sigaa.ufersa.edu.br/sigaa/verFoto?idFo...   \n",
       "2  https://sigaa.ufersa.edu.br/sigaa/verFoto?idFo...   \n",
       "3  https://sigaa.ufersa.edu.br/sigaa/verFoto?idFo...   \n",
       "4  https://sigaa.ufersa.edu.br/sigaa/verFoto?idFo...   \n",
       "5  https://sigaa.ufersa.edu.br/sigaa/verFoto?idFo...   \n",
       "\n",
       "                                        Portal_Siape  \n",
       "0  https://sigaa.ufersa.edu.br/sigaa/public/docen...  \n",
       "1  https://sigaa.ufersa.edu.br/sigaa/public/docen...  \n",
       "2  https://sigaa.ufersa.edu.br/sigaa/public/docen...  \n",
       "3  https://sigaa.ufersa.edu.br/sigaa/public/docen...  \n",
       "4  https://sigaa.ufersa.edu.br/sigaa/public/docen...  \n",
       "5  https://sigaa.ufersa.edu.br/sigaa/public/docen...  "
      ]
     },
     "execution_count": 281,
     "metadata": {},
     "output_type": "execute_result"
    }
   ],
   "source": [
    "horarios_ufersa = pd.DataFrame(pd.read_csv(\"input/horarios_ufersa.csv\", delimiter=\",\"))\n",
    "colunas_horarios_ufersa = ['siape','tipo', 'periodo','cod_dis','disciplina','carg_h','horario']\n",
    "horarios_ufersa.columns = colunas_horarios_ufersa\n",
    "horarios_ufersa.carg_h = horarios_ufersa.carg_h.str.replace('h', '').astype('int64')\n",
    "horasas = horarios_ufersa.carg_h\n",
    "horarios_ufersa.tipo = horarios_ufersa['tipo'].astype(str)\n",
    "professors_information = pd.DataFrame(pd.read_csv(\"input/professors_information.csv\", delimiter=\",\"))\n",
    "colunas_professors_information = ['siape','nome', 'departamento', 'url_foto','Portal_Siape']\n",
    "professors_information.columns = colunas_professors_information\n",
    "departamento = professors_information['departamento']\n",
    "professors_information.head(6)"
   ]
  },
  {
   "cell_type": "code",
   "execution_count": 280,
   "metadata": {},
   "outputs": [
    {
     "data": {
      "text/html": [
       "<div>\n",
       "<style scoped>\n",
       "    .dataframe tbody tr th:only-of-type {\n",
       "        vertical-align: middle;\n",
       "    }\n",
       "\n",
       "    .dataframe tbody tr th {\n",
       "        vertical-align: top;\n",
       "    }\n",
       "\n",
       "    .dataframe thead th {\n",
       "        text-align: right;\n",
       "    }\n",
       "</style>\n",
       "<table border=\"1\" class=\"dataframe\">\n",
       "  <thead>\n",
       "    <tr style=\"text-align: right;\">\n",
       "      <th></th>\n",
       "      <th>siape</th>\n",
       "      <th>tipo</th>\n",
       "      <th>periodo</th>\n",
       "      <th>cod_dis</th>\n",
       "      <th>disciplina</th>\n",
       "      <th>carg_h</th>\n",
       "      <th>horario</th>\n",
       "    </tr>\n",
       "  </thead>\n",
       "  <tbody>\n",
       "    <tr>\n",
       "      <th>0</th>\n",
       "      <td>1975594</td>\n",
       "      <td>turmas-graduacao</td>\n",
       "      <td>2018.2</td>\n",
       "      <td>AAS0700</td>\n",
       "      <td>LIBRAS (1200585)</td>\n",
       "      <td>60</td>\n",
       "      <td>2N12 4N34</td>\n",
       "    </tr>\n",
       "    <tr>\n",
       "      <th>1</th>\n",
       "      <td>1975594</td>\n",
       "      <td>turmas-graduacao</td>\n",
       "      <td>2018.2</td>\n",
       "      <td>CMA1458</td>\n",
       "      <td>LÍNGUA BRASILEIRA DE SINAIS - LIBRAS</td>\n",
       "      <td>60</td>\n",
       "      <td>2N12 4N34</td>\n",
       "    </tr>\n",
       "    <tr>\n",
       "      <th>2</th>\n",
       "      <td>1975594</td>\n",
       "      <td>turmas-graduacao</td>\n",
       "      <td>2018.2</td>\n",
       "      <td>CMA1463</td>\n",
       "      <td>PRÁTICAS PEDAGÓGICAS INTEGRATIVAS III</td>\n",
       "      <td>60</td>\n",
       "      <td>35N12</td>\n",
       "    </tr>\n",
       "    <tr>\n",
       "      <th>3</th>\n",
       "      <td>1975594</td>\n",
       "      <td>turmas-graduacao</td>\n",
       "      <td>2018.1</td>\n",
       "      <td>AAS0452</td>\n",
       "      <td>EDUCACAO ESPECIAL E INCLUSAO (1206025)</td>\n",
       "      <td>60</td>\n",
       "      <td>2N34 4N12</td>\n",
       "    </tr>\n",
       "    <tr>\n",
       "      <th>4</th>\n",
       "      <td>1975594</td>\n",
       "      <td>turmas-graduacao</td>\n",
       "      <td>2018.1</td>\n",
       "      <td>CMA1456</td>\n",
       "      <td>EDUCAÇÃO ESPECIAL E INCLUSIVA</td>\n",
       "      <td>60</td>\n",
       "      <td>2N34 4N12</td>\n",
       "    </tr>\n",
       "    <tr>\n",
       "      <th>5</th>\n",
       "      <td>1975594</td>\n",
       "      <td>turmas-graduacao</td>\n",
       "      <td>2018.1</td>\n",
       "      <td>AAS0700</td>\n",
       "      <td>LIBRAS (1200585)</td>\n",
       "      <td>60</td>\n",
       "      <td>2N12 4N34</td>\n",
       "    </tr>\n",
       "  </tbody>\n",
       "</table>\n",
       "</div>"
      ],
      "text/plain": [
       "     siape              tipo  periodo  cod_dis  \\\n",
       "0  1975594  turmas-graduacao   2018.2  AAS0700   \n",
       "1  1975594  turmas-graduacao   2018.2  CMA1458   \n",
       "2  1975594  turmas-graduacao   2018.2  CMA1463   \n",
       "3  1975594  turmas-graduacao   2018.1  AAS0452   \n",
       "4  1975594  turmas-graduacao   2018.1  CMA1456   \n",
       "5  1975594  turmas-graduacao   2018.1  AAS0700   \n",
       "\n",
       "                               disciplina  carg_h    horario  \n",
       "0                        LIBRAS (1200585)      60  2N12 4N34  \n",
       "1    LÍNGUA BRASILEIRA DE SINAIS - LIBRAS      60  2N12 4N34  \n",
       "2   PRÁTICAS PEDAGÓGICAS INTEGRATIVAS III      60      35N12  \n",
       "3  EDUCACAO ESPECIAL E INCLUSAO (1206025)      60  2N34 4N12  \n",
       "4           EDUCAÇÃO ESPECIAL E INCLUSIVA      60  2N34 4N12  \n",
       "5                        LIBRAS (1200585)      60  2N12 4N34  "
      ]
     },
     "execution_count": 280,
     "metadata": {},
     "output_type": "execute_result"
    }
   ],
   "source": [
    "horarios_ufersa.head(6)"
   ]
  },
  {
   "cell_type": "code",
   "execution_count": 183,
   "metadata": {
    "scrolled": true
   },
   "outputs": [],
   "source": [
    "horarios_ufersa_horario = pd.DataFrame(horarios_ufersa['horario'])\n",
    "horarios_ufersa_disciplinas = pd.DataFrame(horarios_ufersa['disciplina']).drop_duplicates()"
   ]
  },
  {
   "cell_type": "code",
   "execution_count": 43,
   "metadata": {},
   "outputs": [],
   "source": [
    "#Quais professores tem maiores cargas Horarioas ?\n",
    "siape_disciplina = pd.DataFrame(columns=['siape','disciplina'])\n",
    "siape_disciplina.siape= horarios_ufersa.siape.astype('int64')\n",
    "siape_disciplina.disciplina = horarios_ufersa.disciplina\n",
    "\n",
    "siape_professor = pd.DataFrame(columns = ['siape', 'professor'])\n",
    "siape_professor.professor = professors_information.nome\n",
    "siape_professor.siape = professors_information.siape.astype('int64')"
   ]
  },
  {
   "cell_type": "markdown",
   "metadata": {},
   "source": [
    "### Índice de Tendência central da carga horário dos professores "
   ]
  },
  {
   "cell_type": "code",
   "execution_count": 139,
   "metadata": {},
   "outputs": [
    {
     "data": {
      "text/html": [
       "<div>\n",
       "<style scoped>\n",
       "    .dataframe tbody tr th:only-of-type {\n",
       "        vertical-align: middle;\n",
       "    }\n",
       "\n",
       "    .dataframe tbody tr th {\n",
       "        vertical-align: top;\n",
       "    }\n",
       "\n",
       "    .dataframe thead th {\n",
       "        text-align: right;\n",
       "    }\n",
       "</style>\n",
       "<table border=\"1\" class=\"dataframe\">\n",
       "  <thead>\n",
       "    <tr style=\"text-align: right;\">\n",
       "      <th></th>\n",
       "      <th>carg_h</th>\n",
       "    </tr>\n",
       "  </thead>\n",
       "  <tbody>\n",
       "    <tr>\n",
       "      <th>count</th>\n",
       "      <td>25672.000000</td>\n",
       "    </tr>\n",
       "    <tr>\n",
       "      <th>mean</th>\n",
       "      <td>59.543510</td>\n",
       "    </tr>\n",
       "    <tr>\n",
       "      <th>std</th>\n",
       "      <td>28.130433</td>\n",
       "    </tr>\n",
       "    <tr>\n",
       "      <th>min</th>\n",
       "      <td>0.000000</td>\n",
       "    </tr>\n",
       "    <tr>\n",
       "      <th>25%</th>\n",
       "      <td>60.000000</td>\n",
       "    </tr>\n",
       "    <tr>\n",
       "      <th>50%</th>\n",
       "      <td>60.000000</td>\n",
       "    </tr>\n",
       "    <tr>\n",
       "      <th>75%</th>\n",
       "      <td>60.000000</td>\n",
       "    </tr>\n",
       "    <tr>\n",
       "      <th>max</th>\n",
       "      <td>720.000000</td>\n",
       "    </tr>\n",
       "  </tbody>\n",
       "</table>\n",
       "</div>"
      ],
      "text/plain": [
       "             carg_h\n",
       "count  25672.000000\n",
       "mean      59.543510\n",
       "std       28.130433\n",
       "min        0.000000\n",
       "25%       60.000000\n",
       "50%       60.000000\n",
       "75%       60.000000\n",
       "max      720.000000"
      ]
     },
     "execution_count": 139,
     "metadata": {},
     "output_type": "execute_result"
    }
   ],
   "source": [
    "pd.DataFrame(horarios_ufersa['carg_h'].describe())"
   ]
  },
  {
   "cell_type": "markdown",
   "metadata": {},
   "source": [
    "######  1. Quais as disciplinas que mais foram ofertadas na graduação ?\n",
    "Foi possível perceber que as disciplinas mais ofertadas são as disciplinas do departamento de exatas, que  poder ser a causa as disciplinas nas quais mais se reprovam."
   ]
  },
  {
   "cell_type": "code",
   "execution_count": 44,
   "metadata": {},
   "outputs": [
    {
     "data": {
      "text/plain": [
       "Text(0.5, 0, 'Quantidade de vezes que foi ofertada')"
      ]
     },
     "execution_count": 44,
     "metadata": {},
     "output_type": "execute_result"
    },
    {
     "data": {
      "image/png": "[encoded data removed]",
      "text/plain": [
       "<Figure size 864x288 with 1 Axes>"
      ]
     },
     "metadata": {
      "needs_background": "light"
     },
     "output_type": "display_data"
    }
   ],
   "source": [
    "fig_oferta = plt.figure(figsize = (12,4))\n",
    "fig_oferta = pd.value_counts(horarios_ufersa['disciplina']).head(5).plot.barh()\n",
    "fig_oferta.set_title('Matárias mais ofertadas')\n",
    "fig_oferta.set_ylabel('Nome das matérias')\n",
    "fig_oferta.set_xlabel('Quantidade de vezes que foi ofertada')"
   ]
  },
  {
   "cell_type": "markdown",
   "metadata": {},
   "source": [
    "#### 2. Quais as matérias que apresentam dados mais inconsistentes?"
   ]
  },
  {
   "cell_type": "code",
   "execution_count": 174,
   "metadata": {},
   "outputs": [
    {
     "name": "stdout",
     "output_type": "stream",
     "text": [
      "ÓTICA E FÍSICA MODERNA | Carga horária : | 720 h\n",
      "A COMÉDIA E A TRAGÉDIA NA OBRA SHAKESPEAREANA | Carga horária : | 0 h\n"
     ]
    }
   ],
   "source": [
    "print (horarios_ufersa.max().disciplina, \"| Carga horária : |\", horarios_ufersa.max().carg_h,\"h\")\n",
    "print (horarios_ufersa.min().disciplina, \"| Carga horária : |\", horasas.min(),\"h\")"
   ]
  },
  {
   "cell_type": "markdown",
   "metadata": {},
   "source": [
    "####  3. Há dados nulos? vazios?\n",
    "Como foi visto abaixo, não há inconsistência do tipo de dados nulos."
   ]
  },
  {
   "cell_type": "code",
   "execution_count": 176,
   "metadata": {},
   "outputs": [
    {
     "name": "stdout",
     "output_type": "stream",
     "text": [
      "Valores vazios : 0\n"
     ]
    }
   ],
   "source": [
    "print('Valores vazios :',horarios_ufersa.isnull().sum().sum())"
   ]
  },
  {
   "cell_type": "markdown",
   "metadata": {},
   "source": [
    "#### 4. Quais as maiores cargas horários já ofertadas?\n",
    "É possível perceber que há muitos *outside*, algo que se tornou interessante foi o fato que há matérias de 720 horas, algo que não é cabivel em um periodo letivo normal. E também foi encontrado uma materia do período de 2007 que a carga horária total foi de 0 horas."
   ]
  },
  {
   "cell_type": "code",
   "execution_count": 243,
   "metadata": {},
   "outputs": [
    {
     "data": {
      "text/plain": [
       "Text(0, 0.5, 'Carga Horário em h')"
      ]
     },
     "execution_count": 243,
     "metadata": {},
     "output_type": "execute_result"
    },
    {
     "data": {
      "image/png": "[encoded data removed]",
      "text/plain": [
       "<Figure size 576x432 with 1 Axes>"
      ]
     },
     "metadata": {
      "needs_background": "light"
     },
     "output_type": "display_data"
    }
   ],
   "source": [
    "#Quais as maiores cargas horários já ofertadas?\n",
    "fig = plt.figure(figsize=(8,6))\n",
    "ax = fig.gca()\n",
    "horarios_ufersa.boxplot(column='carg_h', ax=ax)\n",
    "ax.set_title('BoxPlot da Carga Horaria')\n",
    "ax.set_ylabel('Carga Horário em h')"
   ]
  },
  {
   "cell_type": "markdown",
   "metadata": {},
   "source": [
    "#### 5. Nos dados, há algum departamento extinto?\n",
    "Não, não há departamentos extintos \"ativos\"."
   ]
  },
  {
   "cell_type": "code",
   "execution_count": 196,
   "metadata": {},
   "outputs": [
    {
     "name": "stdout",
     "output_type": "stream",
     "text": [
      "None\n"
     ]
    }
   ],
   "source": [
    "print( re.search('\\\\extinto\\\\b', str(departamento).lower(), re.IGNORECASE))"
   ]
  },
  {
   "cell_type": "markdown",
   "metadata": {},
   "source": [
    "#### 6. Como foi a distribuição de disciplinas por período?\n",
    "No ano de 2014 foi onde teva a maior frequências de matérias abertas "
   ]
  },
  {
   "cell_type": "code",
   "execution_count": 249,
   "metadata": {},
   "outputs": [
    {
     "data": {
      "image/png": "[encoded data removed]",
      "text/plain": [
       "<Figure size 792x504 with 1 Axes>"
      ]
     },
     "metadata": {
      "needs_background": "light"
     },
     "output_type": "display_data"
    }
   ],
   "source": [
    "plt.hist(horarios_ufersa.periodo, edgecolor='black', linewidth=1.2)\n",
    "plt.rcParams['figure.figsize'] = (11,7)"
   ]
  },
  {
   "cell_type": "markdown",
   "metadata": {},
   "source": [
    "#### 7. Quais as disciplinas ofertadas em 2019.1?\n",
    "Foi ofertadas as disciplínas *Remédios Constitucionais* e a *Jurudição constitucional e controle de constitucionalidade*, respectivamente de 15 e 30 horas"
   ]
  },
  {
   "cell_type": "code",
   "execution_count": 260,
   "metadata": {},
   "outputs": [
    {
     "data": {
      "text/plain": [
       "<BarContainer object of 2 artists>"
      ]
     },
     "execution_count": 260,
     "metadata": {},
     "output_type": "execute_result"
    },
    {
     "data": {
      "image/png": "[encoded data removed]",
      "text/plain": [
       "<Figure size 792x504 with 1 Axes>"
      ]
     },
     "metadata": {
      "needs_background": "light"
     },
     "output_type": "display_data"
    }
   ],
   "source": [
    "horarios_u = horarios_ufersa[horarios_ufersa.periodo > 2019]\n",
    "plt.bar(horarios_u.disciplina, horarios_u.carg_h, width=0.4, align='center')"
   ]
  },
  {
   "cell_type": "markdown",
   "metadata": {},
   "source": [
    "#### 8. Quais são as disciplinas com carga horária em 90h?"
   ]
  },
  {
   "cell_type": "code",
   "execution_count": 277,
   "metadata": {},
   "outputs": [
    {
     "data": {
      "text/plain": [
       "<matplotlib.axes._subplots.AxesSubplot at 0x7fe050e7feb8>"
      ]
     },
     "execution_count": 277,
     "metadata": {},
     "output_type": "execute_result"
    },
    {
     "data": {
      "image/png": "[encoded data removed]",
      "text/plain": [
       "<Figure size 792x504 with 1 Axes>"
      ]
     },
     "metadata": {
      "needs_background": "light"
     },
     "output_type": "display_data"
    }
   ],
   "source": [
    "horas_ufersa = horarios_ufersa[horarios_ufersa.carg_h == 90]\n",
    "horas_ufersa.disciplina.value_counts().head().plot.barh()"
   ]
  },
  {
   "cell_type": "markdown",
   "metadata": {},
   "source": [
    "#### 9. Quantas turmas de *pos - graduação* e de *graduação* estão disponíveis?\n",
    "Como mostrado, temos mais turmas de graduação, que se mostra muito bom, mas a continuidade do aluno na acadêmia na continuidade dos estudos pode se considerar baixa, a acadêmia consegue reter somente uma baixa quantidade de alunos na grade de uma *pos-graduação*."
   ]
  },
  {
   "cell_type": "code",
   "execution_count": 301,
   "metadata": {},
   "outputs": [
    {
     "data": {
      "text/plain": [
       "Text(0, 0.5, 'Quantidade de matérias disponíveis')"
      ]
     },
     "execution_count": 301,
     "metadata": {},
     "output_type": "execute_result"
    },
    {
     "data": {
      "image/png": "[encoded data removed]",
      "text/plain": [
       "<Figure size 792x504 with 1 Axes>"
      ]
     },
     "metadata": {
      "needs_background": "light"
     },
     "output_type": "display_data"
    }
   ],
   "source": [
    "#9. Quantas turmas de *pos - graduação* e de *graduação* estão disponíveis?\n",
    "fig_ofertaa = pd.value_counts(horarios_ufersa.tipo).plot.barh()\n",
    "fig_ofertaa.set_title('Gráfico da quantidade de turmas de \"pos-graduação\" e de \"graduação\"')\n",
    "fig_ofertaa.set_ylabel('Quantidade de matérias disponíveis')"
   ]
  },
  {
   "cell_type": "markdown",
   "metadata": {},
   "source": [
    "#### 10. Com base na pergunta anterior, quais são de 2009?\n",
    "Vemos também que não tem tanta retenção dos alunos para a *pos-graduação*, se mantém constante como o grafico anterior"
   ]
  },
  {
   "cell_type": "code",
   "execution_count": 314,
   "metadata": {},
   "outputs": [
    {
     "data": {
      "text/plain": [
       "Text(0, 0.5, 'Quantidade de matérias disponíveis')"
      ]
     },
     "execution_count": 314,
     "metadata": {},
     "output_type": "execute_result"
    },
    {
     "data": {
      "image/png": "[encoded data removed]",
      "text/plain": [
       "<Figure size 792x504 with 1 Axes>"
      ]
     },
     "metadata": {
      "needs_background": "light"
     },
     "output_type": "display_data"
    }
   ],
   "source": [
    "#Com base na pergunta anterior, quais são de 2009?\n",
    "horarios_a = horarios_ufersa[horarios_ufersa.periodo > 2009]\n",
    "fig_aas = pd.value_counts(horarios_a.tipo).plot.barh()\n",
    "fig_aas.set_title('Gráfico da quantidade de turmas de \"pos-graduação\" e de \"graduação\" após a crise de 2008')\n",
    "fig_aas.set_ylabel('Quantidade de matérias disponíveis')"
   ]
  },
  {
   "cell_type": "code",
   "execution_count": null,
   "metadata": {},
   "outputs": [],
   "source": []
  }
 ],
 "metadata": {
  "kernelspec": {
   "display_name": "Python 3",
   "language": "python",
   "name": "python3"
  },
  "language_info": {
   "codemirror_mode": {
    "name": "ipython",
    "version": 3
   },
   "file_extension": ".py",
   "mimetype": "text/x-python",
   "name": "python",
   "nbconvert_exporter": "python",
   "pygments_lexer": "ipython3",
   "version": "3.5.3"
  }
 },
 "nbformat": 4,
 "nbformat_minor": 2
}
